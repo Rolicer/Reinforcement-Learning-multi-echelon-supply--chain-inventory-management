{
 "cells": [
  {
   "cell_type": "markdown",
   "id": "a7fc65b1",
   "metadata": {},
   "source": [
    "# Import Libraries"
   ]
  },
  {
   "cell_type": "code",
   "execution_count": 1,
   "id": "8ddeae1c",
   "metadata": {},
   "outputs": [],
   "source": [
    "# Import Libraries#general imports for data actions\n",
    "import numpy as np\n",
    "import math\n",
    "import pandas as pd"
   ]
  },
  {
   "cell_type": "code",
   "execution_count": 2,
   "id": "fdfc6643",
   "metadata": {},
   "outputs": [],
   "source": [
    "#for visualization\n",
    "import matplotlib.pyplot as plt\n",
    "from matplotlib import pyplot as plt\n",
    "%matplotlib inline\n",
    "import seaborn as sns\n",
    "import plotly.express as px"
   ]
  },
  {
   "cell_type": "markdown",
   "id": "eee9f212",
   "metadata": {},
   "source": [
    "# Create months input (x variable) "
   ]
  },
  {
   "cell_type": "code",
   "execution_count": 3,
   "id": "2a646f8d",
   "metadata": {},
   "outputs": [
    {
     "data": {
      "text/plain": [
       "array([ 1,  2,  3,  4,  5,  6,  7,  8,  9, 10, 11, 12, 13, 14, 15, 16, 17,\n",
       "       18, 19, 20, 21, 22, 23, 24])"
      ]
     },
     "execution_count": 3,
     "metadata": {},
     "output_type": "execute_result"
    }
   ],
   "source": [
    "x = np.arange(1, 25)\n",
    "x"
   ]
  },
  {
   "cell_type": "markdown",
   "id": "485cbea6",
   "metadata": {},
   "source": [
    "# Create seasonal demand function and store in variable y"
   ]
  },
  {
   "cell_type": "code",
   "execution_count": 4,
   "id": "1ada8946",
   "metadata": {},
   "outputs": [
    {
     "data": {
      "text/plain": [
       "array([25., 23., 20., 17., 15., 14., 15., 17., 20., 22., 25., 26., 26.,\n",
       "       24., 21., 18., 16., 14., 14., 15., 18., 21., 24., 25.])"
      ]
     },
     "execution_count": 4,
     "metadata": {},
     "output_type": "execute_result"
    }
   ],
   "source": [
    "y = np.round_(6 * np.sin(0.5 * x + 1.7) + 20)\n",
    "y"
   ]
  },
  {
   "cell_type": "markdown",
   "id": "4e8ddf7a",
   "metadata": {},
   "source": [
    "# Plot the function to be sure"
   ]
  },
  {
   "cell_type": "code",
   "execution_count": 5,
   "id": "de691f3f",
   "metadata": {},
   "outputs": [
    {
     "data": {
      "text/plain": [
       "<matplotlib.legend.Legend at 0x2e322231a30>"
      ]
     },
     "execution_count": 5,
     "metadata": {},
     "output_type": "execute_result"
    },
    {
     "data": {
      "image/png": "[encoded data removed]",
      "text/plain": [
       "<Figure size 640x480 with 1 Axes>"
      ]
     },
     "metadata": {},
     "output_type": "display_data"
    }
   ],
   "source": [
    "# Create seasonal demands function and store in variable ydf = pd.DataFrame({\"Monthly demand\": y})\n",
    "\n",
    "p = sns.scatterplot(data = df)\n",
    "p.set_xlabel(\"Months\", fontsize = 12)\n",
    "p.set_ylabel(\"Customer's demand\", fontsize = 12)\n",
    "plt.legend([],[], frameon=False)"
   ]
  },
  {
   "cell_type": "markdown",
   "id": "cecfaaee",
   "metadata": {},
   "source": [
    "# Descriptive statistics"
   ]
  },
  {
   "cell_type": "code",
   "execution_count": 6,
   "id": "d174e446",
   "metadata": {},
   "outputs": [
    {
     "data": {
      "text/html": [
       "<div>\n",
       "<style scoped>\n",
       "    .dataframe tbody tr th:only-of-type {\n",
       "        vertical-align: middle;\n",
       "    }\n",
       "\n",
       "    .dataframe tbody tr th {\n",
       "        vertical-align: top;\n",
       "    }\n",
       "\n",
       "    .dataframe thead th {\n",
       "        text-align: right;\n",
       "    }\n",
       "</style>\n",
       "<table border=\"1\" class=\"dataframe\">\n",
       "  <thead>\n",
       "    <tr style=\"text-align: right;\">\n",
       "      <th></th>\n",
       "      <th>count</th>\n",
       "      <th>mean</th>\n",
       "      <th>std</th>\n",
       "      <th>min</th>\n",
       "      <th>25%</th>\n",
       "      <th>50%</th>\n",
       "      <th>75%</th>\n",
       "      <th>max</th>\n",
       "    </tr>\n",
       "  </thead>\n",
       "  <tbody>\n",
       "    <tr>\n",
       "      <th>Monthly demand</th>\n",
       "      <td>24.0</td>\n",
       "      <td>19.791667</td>\n",
       "      <td>4.262875</td>\n",
       "      <td>14.0</td>\n",
       "      <td>15.75</td>\n",
       "      <td>20.0</td>\n",
       "      <td>24.0</td>\n",
       "      <td>26.0</td>\n",
       "    </tr>\n",
       "  </tbody>\n",
       "</table>\n",
       "</div>"
      ],
      "text/plain": [
       "                count       mean       std   min    25%   50%   75%   max\n",
       "Monthly demand   24.0  19.791667  4.262875  14.0  15.75  20.0  24.0  26.0"
      ]
     },
     "execution_count": 6,
     "metadata": {},
     "output_type": "execute_result"
    }
   ],
   "source": [
    "df.describe().T"
   ]
  }
 ],
 "metadata": {
  "kernelspec": {
   "display_name": "Python 3 (ipykernel)",
   "language": "python",
   "name": "python3"
  },
  "language_info": {
   "codemirror_mode": {
    "name": "ipython",
    "version": 3
   },
   "file_extension": ".py",
   "mimetype": "text/x-python",
   "name": "python",
   "nbconvert_exporter": "python",
   "pygments_lexer": "ipython3",
   "version": "3.9.13"
  }
 },
 "nbformat": 4,
 "nbformat_minor": 5
}
