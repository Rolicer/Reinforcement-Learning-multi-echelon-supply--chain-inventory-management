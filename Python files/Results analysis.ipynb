{
 "cells": [
  {
   "cell_type": "markdown",
   "id": "33a8bc81",
   "metadata": {},
   "source": [
    "# Import Libraries"
   ]
  },
  {
   "cell_type": "code",
   "execution_count": 1,
   "id": "d9b25b30",
   "metadata": {},
   "outputs": [],
   "source": [
    "#general imports for data actions\n",
    "import pandas as pd\n",
    "import numpy as np\n",
    "import math\n",
    "from sklearn import metrics\n",
    "from sklearn import preprocessing\n",
    "\n",
    "#for visualization\n",
    "import matplotlib.pyplot as plt\n",
    "from matplotlib import pyplot as plt\n",
    "%matplotlib inline\n",
    "import seaborn as sns\n",
    "import plotly.express as px"
   ]
  },
  {
   "cell_type": "code",
   "execution_count": 2,
   "id": "bf26f869",
   "metadata": {},
   "outputs": [],
   "source": [
    "plt.rcParams[\"figure.figsize\"] = (5,4)\n",
    "\n",
    "plt.rcParams['axes.spines.right'] = False\n",
    "plt.rcParams['axes.spines.top'] = False\n",
    "plt.rcParams.update({'font.size': 12})"
   ]
  },
  {
   "cell_type": "markdown",
   "id": "30659a1d",
   "metadata": {},
   "source": [
    "# Import Datasets"
   ]
  },
  {
   "cell_type": "code",
   "execution_count": 3,
   "id": "d9f80a49",
   "metadata": {},
   "outputs": [],
   "source": [
    "A2C_1 = pd.read_csv('D:/Files/Data science/Learning/Reinforcement Learning/NetworkRL/RL_models/A2C_1/CSV_logs/progress.csv')\n",
    "A2C_2 = pd.read_csv('D:/Files/Data science/Learning/Reinforcement Learning/NetworkRL/RL_models/A2C_2/CSV_logs/progress.csv')\n",
    "A2C_3 = pd.read_csv('D:/Files/Data science/Learning/Reinforcement Learning/NetworkRL/RL_models/A2C_3/CSV_logs/progress.csv')\n",
    "A2C_4 = pd.read_csv('D:/Files/Data science/Learning/Reinforcement Learning/NetworkRL/RL_models/A2C_4/CSV_logs/progress.csv')"
   ]
  },
  {
   "cell_type": "code",
   "execution_count": 4,
   "id": "0146a466",
   "metadata": {},
   "outputs": [],
   "source": [
    "ARS_1 = pd.read_csv('D:/Files/Data science/Learning/Reinforcement Learning/NetworkRL/RL_models/ARS_1/CSV_logs/progress.csv')\n",
    "ARS_2 = pd.read_csv('D:/Files/Data science/Learning/Reinforcement Learning/NetworkRL/RL_models/ARS_2/CSV_logs/progress.csv')\n",
    "ARS_3 = pd.read_csv('D:/Files/Data science/Learning/Reinforcement Learning/NetworkRL/RL_models/ARS_3/CSV_logs/progress.csv')\n",
    "ARS_4 = pd.read_csv('D:/Files/Data science/Learning/Reinforcement Learning/NetworkRL/RL_models/ARS_4/CSV_logs/progress.csv')"
   ]
  },
  {
   "cell_type": "code",
   "execution_count": 5,
   "id": "16f4403d",
   "metadata": {},
   "outputs": [],
   "source": [
    "PPO_1 = pd.read_csv('D:/Files/Data science/Learning/Reinforcement Learning/NetworkRL/RL_models/PPO_1/CSV_logs/progress.csv')\n",
    "PPO_2 = pd.read_csv('D:/Files/Data science/Learning/Reinforcement Learning/NetworkRL/RL_models/PPO_2/CSV_logs/progress.csv')\n",
    "PPO_3 = pd.read_csv('D:/Files/Data science/Learning/Reinforcement Learning/NetworkRL/RL_models/PPO_3/CSV_logs/progress.csv')\n",
    "PPO_4 = pd.read_csv('D:/Files/Data science/Learning/Reinforcement Learning/NetworkRL/RL_models/PPO_4/CSV_logs/progress.csv')"
   ]
  },
  {
   "cell_type": "code",
   "execution_count": 6,
   "id": "0fbf7a8a",
   "metadata": {},
   "outputs": [],
   "source": [
    "SAC_1 = pd.read_csv('D:/Files/Data science/Learning/Reinforcement Learning/NetworkRL/RL_models/SAC_1/CSV_logs/progress.csv')\n",
    "SAC_2 = pd.read_csv('D:/Files/Data science/Learning/Reinforcement Learning/NetworkRL/RL_models/SAC_2/CSV_logs/progress.csv')\n",
    "SAC_3 = pd.read_csv('D:/Files/Data science/Learning/Reinforcement Learning/NetworkRL/RL_models/SAC_3/CSV_logs/progress.csv')\n",
    "SAC_4 = pd.read_csv('D:/Files/Data science/Learning/Reinforcement Learning/NetworkRL/RL_models/SAC_4/CSV_logs/progress.csv')"
   ]
  },
  {
   "cell_type": "code",
   "execution_count": 7,
   "id": "3a6b69e0",
   "metadata": {},
   "outputs": [],
   "source": [
    "TRPO_1 = pd.read_csv('D:/Files/Data science/Learning/Reinforcement Learning/NetworkRL/RL_models/TRPO_1/CSV_logs/progress.csv')\n",
    "TRPO_2 = pd.read_csv('D:/Files/Data science/Learning/Reinforcement Learning/NetworkRL/RL_models/TRPO_2/CSV_logs/progress.csv')\n",
    "TRPO_3 = pd.read_csv('D:/Files/Data science/Learning/Reinforcement Learning/NetworkRL/RL_models/TRPO_3/CSV_logs/progress.csv')\n",
    "TRPO_4 = pd.read_csv('D:/Files/Data science/Learning/Reinforcement Learning/NetworkRL/RL_models/TRPO_4/CSV_logs/progress.csv')"
   ]
  },
  {
   "cell_type": "markdown",
   "id": "abee79d5",
   "metadata": {},
   "source": [
    "# Data preparation: ensure max 4 Hours (14400 Seconds) and devide to get minutes"
   ]
  },
  {
   "cell_type": "code",
   "execution_count": 8,
   "id": "3e9e0464",
   "metadata": {},
   "outputs": [],
   "source": [
    "A2C_1 = A2C_1[A2C_1['time/time_elapsed']<=14400]\n",
    "A2C_2 = A2C_2[A2C_2['time/time_elapsed']<=14400]\n",
    "A2C_3 = A2C_3[A2C_3['time/time_elapsed']<=14400]\n",
    "A2C_4 = A2C_4[A2C_4['time/time_elapsed']<=14400]\n",
    "\n",
    "ARS_1 = ARS_1[ARS_1['time/time_elapsed']<=14400]\n",
    "ARS_2 = ARS_2[ARS_2['time/time_elapsed']<=14400]\n",
    "ARS_3 = ARS_3[ARS_3['time/time_elapsed']<=14400]\n",
    "ARS_4 = ARS_4[ARS_4['time/time_elapsed']<=14400]\n",
    "\n",
    "PPO_1 = PPO_1[PPO_1['time/time_elapsed']<=14400]\n",
    "PPO_2 = PPO_2[PPO_2['time/time_elapsed']<=14400]\n",
    "PPO_3 = PPO_3[PPO_3['time/time_elapsed']<=14400]\n",
    "PPO_4 = PPO_4[PPO_4['time/time_elapsed']<=14400]\n",
    "\n",
    "SAC_1 = SAC_1[SAC_1['time/time_elapsed']<=14400]\n",
    "SAC_2 = SAC_2[SAC_2['time/time_elapsed']<=14400]\n",
    "SAC_3 = SAC_3[SAC_3['time/time_elapsed']<=14400]\n",
    "SAC_4 = SAC_4[SAC_4['time/time_elapsed']<=14400]\n",
    "\n",
    "TRPO_1 = TRPO_1[TRPO_1['time/time_elapsed']<=14400]\n",
    "TRPO_2 = TRPO_2[TRPO_2['time/time_elapsed']<=14400]\n",
    "TRPO_3 = TRPO_3[TRPO_3['time/time_elapsed']<=14400]\n",
    "TRPO_4 = TRPO_4[TRPO_4['time/time_elapsed']<=14400]"
   ]
  },
  {
   "cell_type": "code",
   "execution_count": 9,
   "id": "967f00e6",
   "metadata": {},
   "outputs": [],
   "source": [
    "A2C_1['time/time_elapsed'] = A2C_1['time/time_elapsed']/60\n",
    "A2C_2['time/time_elapsed'] = A2C_2['time/time_elapsed']/60\n",
    "A2C_3['time/time_elapsed'] = A2C_3['time/time_elapsed']/60\n",
    "A2C_4['time/time_elapsed'] = A2C_4['time/time_elapsed']/60\n",
    "\n",
    "ARS_1['time/time_elapsed'] = ARS_1['time/time_elapsed']/60\n",
    "ARS_2['time/time_elapsed'] = ARS_2['time/time_elapsed']/60\n",
    "ARS_3['time/time_elapsed'] = ARS_3['time/time_elapsed']/60\n",
    "ARS_4['time/time_elapsed'] = ARS_4['time/time_elapsed']/60\n",
    "\n",
    "PPO_1['time/time_elapsed'] = PPO_1['time/time_elapsed']/60\n",
    "PPO_2['time/time_elapsed'] = PPO_2['time/time_elapsed']/60\n",
    "PPO_3['time/time_elapsed'] = PPO_3['time/time_elapsed']/60\n",
    "PPO_4['time/time_elapsed'] = PPO_4['time/time_elapsed']/60\n",
    "\n",
    "SAC_1['time/time_elapsed'] = SAC_1['time/time_elapsed']/60\n",
    "SAC_2['time/time_elapsed'] = SAC_2['time/time_elapsed']/60\n",
    "SAC_3['time/time_elapsed'] = SAC_3['time/time_elapsed']/60\n",
    "SAC_4['time/time_elapsed'] = SAC_4['time/time_elapsed']/60\n",
    "\n",
    "TRPO_1['time/time_elapsed'] = TRPO_1['time/time_elapsed']/60\n",
    "TRPO_2['time/time_elapsed'] = TRPO_2['time/time_elapsed']/60\n",
    "TRPO_3['time/time_elapsed'] = TRPO_3['time/time_elapsed']/60\n",
    "TRPO_4['time/time_elapsed'] = TRPO_4['time/time_elapsed']/60"
   ]
  },
  {
   "cell_type": "markdown",
   "id": "e6c455e8",
   "metadata": {},
   "source": [
    "# Get Values for the results table: \n",
    "# mean, overall maximum and values at the end of training"
   ]
  },
  {
   "cell_type": "markdown",
   "id": "b24a736e",
   "metadata": {},
   "source": [
    "### Training 1"
   ]
  },
  {
   "cell_type": "code",
   "execution_count": 10,
   "id": "20e06437",
   "metadata": {},
   "outputs": [
    {
     "data": {
      "text/html": [
       "<div>\n",
       "<style scoped>\n",
       "    .dataframe tbody tr th:only-of-type {\n",
       "        vertical-align: middle;\n",
       "    }\n",
       "\n",
       "    .dataframe tbody tr th {\n",
       "        vertical-align: top;\n",
       "    }\n",
       "\n",
       "    .dataframe thead th {\n",
       "        text-align: right;\n",
       "    }\n",
       "</style>\n",
       "<table border=\"1\" class=\"dataframe\">\n",
       "  <thead>\n",
       "    <tr style=\"text-align: right;\">\n",
       "      <th></th>\n",
       "      <th>rollout/ep_rew_mean</th>\n",
       "      <th>time/total_timesteps</th>\n",
       "    </tr>\n",
       "  </thead>\n",
       "  <tbody>\n",
       "    <tr>\n",
       "      <th>mean</th>\n",
       "      <td>474.8069</td>\n",
       "      <td>391168.0</td>\n",
       "    </tr>\n",
       "    <tr>\n",
       "      <th>max</th>\n",
       "      <td>620.3262</td>\n",
       "      <td>780288.0</td>\n",
       "    </tr>\n",
       "  </tbody>\n",
       "</table>\n",
       "</div>"
      ],
      "text/plain": [
       "      rollout/ep_rew_mean  time/total_timesteps\n",
       "mean             474.8069              391168.0\n",
       "max              620.3262              780288.0"
      ]
     },
     "execution_count": 10,
     "metadata": {},
     "output_type": "execute_result"
    }
   ],
   "source": [
    "round(TRPO_1[['rollout/ep_rew_mean', 'time/total_timesteps']].describe().loc[['mean', 'max']], 4)"
   ]
  },
  {
   "cell_type": "code",
   "execution_count": 11,
   "id": "35e04df1",
   "metadata": {},
   "outputs": [
    {
     "data": {
      "text/plain": [
       "rollout/ep_rew_mean        618.4371\n",
       "time/total_timesteps    780288.0000\n",
       "Name: 380, dtype: float64"
      ]
     },
     "execution_count": 11,
     "metadata": {},
     "output_type": "execute_result"
    }
   ],
   "source": [
    "round(TRPO_1[['rollout/ep_rew_mean', 'time/total_timesteps']].iloc[-1], 4)"
   ]
  },
  {
   "cell_type": "markdown",
   "id": "a69c4e83",
   "metadata": {},
   "source": [
    "<br>"
   ]
  },
  {
   "cell_type": "code",
   "execution_count": 12,
   "id": "6c396a04",
   "metadata": {},
   "outputs": [
    {
     "data": {
      "text/html": [
       "<div>\n",
       "<style scoped>\n",
       "    .dataframe tbody tr th:only-of-type {\n",
       "        vertical-align: middle;\n",
       "    }\n",
       "\n",
       "    .dataframe tbody tr th {\n",
       "        vertical-align: top;\n",
       "    }\n",
       "\n",
       "    .dataframe thead th {\n",
       "        text-align: right;\n",
       "    }\n",
       "</style>\n",
       "<table border=\"1\" class=\"dataframe\">\n",
       "  <thead>\n",
       "    <tr style=\"text-align: right;\">\n",
       "      <th></th>\n",
       "      <th>rollout/ep_rew_mean</th>\n",
       "      <th>time/total_timesteps</th>\n",
       "    </tr>\n",
       "  </thead>\n",
       "  <tbody>\n",
       "    <tr>\n",
       "      <th>mean</th>\n",
       "      <td>89.3434</td>\n",
       "      <td>376750.0</td>\n",
       "    </tr>\n",
       "    <tr>\n",
       "      <th>max</th>\n",
       "      <td>515.3001</td>\n",
       "      <td>753000.0</td>\n",
       "    </tr>\n",
       "  </tbody>\n",
       "</table>\n",
       "</div>"
      ],
      "text/plain": [
       "      rollout/ep_rew_mean  time/total_timesteps\n",
       "mean              89.3434              376750.0\n",
       "max              515.3001              753000.0"
      ]
     },
     "execution_count": 12,
     "metadata": {},
     "output_type": "execute_result"
    }
   ],
   "source": [
    "round(A2C_1[['rollout/ep_rew_mean', 'time/total_timesteps']].describe().loc[['mean', 'max']], 4)"
   ]
  },
  {
   "cell_type": "code",
   "execution_count": 13,
   "id": "c378a9db",
   "metadata": {},
   "outputs": [
    {
     "data": {
      "text/plain": [
       "rollout/ep_rew_mean        225.9229\n",
       "time/total_timesteps    753000.0000\n",
       "Name: 1505, dtype: float64"
      ]
     },
     "execution_count": 13,
     "metadata": {},
     "output_type": "execute_result"
    }
   ],
   "source": [
    "round(A2C_1[['rollout/ep_rew_mean', 'time/total_timesteps']].iloc[-1], 4)"
   ]
  },
  {
   "cell_type": "markdown",
   "id": "a25e4126",
   "metadata": {},
   "source": [
    "<br>"
   ]
  },
  {
   "cell_type": "code",
   "execution_count": 14,
   "id": "1db6e1f7",
   "metadata": {},
   "outputs": [
    {
     "data": {
      "text/html": [
       "<div>\n",
       "<style scoped>\n",
       "    .dataframe tbody tr th:only-of-type {\n",
       "        vertical-align: middle;\n",
       "    }\n",
       "\n",
       "    .dataframe tbody tr th {\n",
       "        vertical-align: top;\n",
       "    }\n",
       "\n",
       "    .dataframe thead th {\n",
       "        text-align: right;\n",
       "    }\n",
       "</style>\n",
       "<table border=\"1\" class=\"dataframe\">\n",
       "  <thead>\n",
       "    <tr style=\"text-align: right;\">\n",
       "      <th></th>\n",
       "      <th>rollout/ep_rew_mean</th>\n",
       "      <th>time/total_timesteps</th>\n",
       "    </tr>\n",
       "  </thead>\n",
       "  <tbody>\n",
       "    <tr>\n",
       "      <th>mean</th>\n",
       "      <td>165.8497</td>\n",
       "      <td>384000.0</td>\n",
       "    </tr>\n",
       "    <tr>\n",
       "      <th>max</th>\n",
       "      <td>610.3276</td>\n",
       "      <td>765952.0</td>\n",
       "    </tr>\n",
       "  </tbody>\n",
       "</table>\n",
       "</div>"
      ],
      "text/plain": [
       "      rollout/ep_rew_mean  time/total_timesteps\n",
       "mean             165.8497              384000.0\n",
       "max              610.3276              765952.0"
      ]
     },
     "execution_count": 14,
     "metadata": {},
     "output_type": "execute_result"
    }
   ],
   "source": [
    "round(PPO_1[['rollout/ep_rew_mean', 'time/total_timesteps']].describe().loc[['mean', 'max']], 4)"
   ]
  },
  {
   "cell_type": "code",
   "execution_count": 15,
   "id": "f0e39d3a",
   "metadata": {},
   "outputs": [
    {
     "data": {
      "text/plain": [
       "rollout/ep_rew_mean        610.0687\n",
       "time/total_timesteps    765952.0000\n",
       "Name: 373, dtype: float64"
      ]
     },
     "execution_count": 15,
     "metadata": {},
     "output_type": "execute_result"
    }
   ],
   "source": [
    "round(PPO_1[['rollout/ep_rew_mean', 'time/total_timesteps']].iloc[-1], 4)"
   ]
  },
  {
   "cell_type": "markdown",
   "id": "f938b4de",
   "metadata": {},
   "source": [
    "<br>"
   ]
  },
  {
   "cell_type": "code",
   "execution_count": 16,
   "id": "6c65f3af",
   "metadata": {},
   "outputs": [
    {
     "data": {
      "text/html": [
       "<div>\n",
       "<style scoped>\n",
       "    .dataframe tbody tr th:only-of-type {\n",
       "        vertical-align: middle;\n",
       "    }\n",
       "\n",
       "    .dataframe tbody tr th {\n",
       "        vertical-align: top;\n",
       "    }\n",
       "\n",
       "    .dataframe thead th {\n",
       "        text-align: right;\n",
       "    }\n",
       "</style>\n",
       "<table border=\"1\" class=\"dataframe\">\n",
       "  <thead>\n",
       "    <tr style=\"text-align: right;\">\n",
       "      <th></th>\n",
       "      <th>rollout/ep_rew_mean</th>\n",
       "      <th>time/total_timesteps</th>\n",
       "    </tr>\n",
       "  </thead>\n",
       "  <tbody>\n",
       "    <tr>\n",
       "      <th>mean</th>\n",
       "      <td>-5254.0532</td>\n",
       "      <td>166896.0</td>\n",
       "    </tr>\n",
       "    <tr>\n",
       "      <th>max</th>\n",
       "      <td>-2081.5722</td>\n",
       "      <td>333696.0</td>\n",
       "    </tr>\n",
       "  </tbody>\n",
       "</table>\n",
       "</div>"
      ],
      "text/plain": [
       "      rollout/ep_rew_mean  time/total_timesteps\n",
       "mean           -5254.0532              166896.0\n",
       "max            -2081.5722              333696.0"
      ]
     },
     "execution_count": 16,
     "metadata": {},
     "output_type": "execute_result"
    }
   ],
   "source": [
    "round(SAC_1[['rollout/ep_rew_mean', 'time/total_timesteps']].describe().loc[['mean', 'max']], 4)"
   ]
  },
  {
   "cell_type": "code",
   "execution_count": 17,
   "id": "2ac5154e",
   "metadata": {},
   "outputs": [
    {
     "data": {
      "text/plain": [
       "rollout/ep_rew_mean      -5904.6112\n",
       "time/total_timesteps    333696.0000\n",
       "Name: 3475, dtype: float64"
      ]
     },
     "execution_count": 17,
     "metadata": {},
     "output_type": "execute_result"
    }
   ],
   "source": [
    "round(SAC_1[['rollout/ep_rew_mean', 'time/total_timesteps']].iloc[-1], 4)"
   ]
  },
  {
   "cell_type": "markdown",
   "id": "43ecef84",
   "metadata": {},
   "source": [
    "<br>"
   ]
  },
  {
   "cell_type": "code",
   "execution_count": 18,
   "id": "c1de4e7f",
   "metadata": {},
   "outputs": [
    {
     "data": {
      "text/html": [
       "<div>\n",
       "<style scoped>\n",
       "    .dataframe tbody tr th:only-of-type {\n",
       "        vertical-align: middle;\n",
       "    }\n",
       "\n",
       "    .dataframe tbody tr th {\n",
       "        vertical-align: top;\n",
       "    }\n",
       "\n",
       "    .dataframe thead th {\n",
       "        text-align: right;\n",
       "    }\n",
       "</style>\n",
       "<table border=\"1\" class=\"dataframe\">\n",
       "  <thead>\n",
       "    <tr style=\"text-align: right;\">\n",
       "      <th></th>\n",
       "      <th>rollout/ep_rew_mean</th>\n",
       "      <th>time/total_timesteps</th>\n",
       "    </tr>\n",
       "  </thead>\n",
       "  <tbody>\n",
       "    <tr>\n",
       "      <th>mean</th>\n",
       "      <td>468.9429</td>\n",
       "      <td>396864.0</td>\n",
       "    </tr>\n",
       "    <tr>\n",
       "      <th>max</th>\n",
       "      <td>643.1275</td>\n",
       "      <td>793344.0</td>\n",
       "    </tr>\n",
       "  </tbody>\n",
       "</table>\n",
       "</div>"
      ],
      "text/plain": [
       "      rollout/ep_rew_mean  time/total_timesteps\n",
       "mean             468.9429              396864.0\n",
       "max              643.1275              793344.0"
      ]
     },
     "execution_count": 18,
     "metadata": {},
     "output_type": "execute_result"
    }
   ],
   "source": [
    "round(ARS_1[['rollout/ep_rew_mean', 'time/total_timesteps']].describe().loc[['mean', 'max']], 4)"
   ]
  },
  {
   "cell_type": "code",
   "execution_count": 19,
   "id": "f4307f1e",
   "metadata": {},
   "outputs": [
    {
     "data": {
      "text/plain": [
       "rollout/ep_rew_mean        642.9306\n",
       "time/total_timesteps    793344.0000\n",
       "Name: 2065, dtype: float64"
      ]
     },
     "execution_count": 19,
     "metadata": {},
     "output_type": "execute_result"
    }
   ],
   "source": [
    "round(ARS_1[['rollout/ep_rew_mean', 'time/total_timesteps']].iloc[-1], 4)"
   ]
  },
  {
   "cell_type": "markdown",
   "id": "b9f1d9fd",
   "metadata": {},
   "source": [
    "<br>"
   ]
  },
  {
   "cell_type": "markdown",
   "id": "7a6cf266",
   "metadata": {},
   "source": [
    "### Training 2"
   ]
  },
  {
   "cell_type": "code",
   "execution_count": 20,
   "id": "6e512db3",
   "metadata": {},
   "outputs": [
    {
     "data": {
      "text/html": [
       "<div>\n",
       "<style scoped>\n",
       "    .dataframe tbody tr th:only-of-type {\n",
       "        vertical-align: middle;\n",
       "    }\n",
       "\n",
       "    .dataframe tbody tr th {\n",
       "        vertical-align: top;\n",
       "    }\n",
       "\n",
       "    .dataframe thead th {\n",
       "        text-align: right;\n",
       "    }\n",
       "</style>\n",
       "<table border=\"1\" class=\"dataframe\">\n",
       "  <thead>\n",
       "    <tr style=\"text-align: right;\">\n",
       "      <th></th>\n",
       "      <th>rollout/ep_rew_mean</th>\n",
       "      <th>time/total_timesteps</th>\n",
       "    </tr>\n",
       "  </thead>\n",
       "  <tbody>\n",
       "    <tr>\n",
       "      <th>mean</th>\n",
       "      <td>387.4738</td>\n",
       "      <td>359424.0</td>\n",
       "    </tr>\n",
       "    <tr>\n",
       "      <th>max</th>\n",
       "      <td>615.3205</td>\n",
       "      <td>716800.0</td>\n",
       "    </tr>\n",
       "  </tbody>\n",
       "</table>\n",
       "</div>"
      ],
      "text/plain": [
       "      rollout/ep_rew_mean  time/total_timesteps\n",
       "mean             387.4738              359424.0\n",
       "max              615.3205              716800.0"
      ]
     },
     "execution_count": 20,
     "metadata": {},
     "output_type": "execute_result"
    }
   ],
   "source": [
    "round(TRPO_2[['rollout/ep_rew_mean', 'time/total_timesteps']].describe().loc[['mean', 'max']], 4)"
   ]
  },
  {
   "cell_type": "code",
   "execution_count": 21,
   "id": "aabd0175",
   "metadata": {},
   "outputs": [
    {
     "data": {
      "text/plain": [
       "rollout/ep_rew_mean        615.3205\n",
       "time/total_timesteps    716800.0000\n",
       "Name: 349, dtype: float64"
      ]
     },
     "execution_count": 21,
     "metadata": {},
     "output_type": "execute_result"
    }
   ],
   "source": [
    "round(TRPO_2[['rollout/ep_rew_mean', 'time/total_timesteps']].iloc[-1], 4)"
   ]
  },
  {
   "cell_type": "markdown",
   "id": "c2ee3f9f",
   "metadata": {},
   "source": [
    "<br>"
   ]
  },
  {
   "cell_type": "code",
   "execution_count": 22,
   "id": "d1972b51",
   "metadata": {},
   "outputs": [
    {
     "data": {
      "text/html": [
       "<div>\n",
       "<style scoped>\n",
       "    .dataframe tbody tr th:only-of-type {\n",
       "        vertical-align: middle;\n",
       "    }\n",
       "\n",
       "    .dataframe tbody tr th {\n",
       "        vertical-align: top;\n",
       "    }\n",
       "\n",
       "    .dataframe thead th {\n",
       "        text-align: right;\n",
       "    }\n",
       "</style>\n",
       "<table border=\"1\" class=\"dataframe\">\n",
       "  <thead>\n",
       "    <tr style=\"text-align: right;\">\n",
       "      <th></th>\n",
       "      <th>rollout/ep_rew_mean</th>\n",
       "      <th>time/total_timesteps</th>\n",
       "    </tr>\n",
       "  </thead>\n",
       "  <tbody>\n",
       "    <tr>\n",
       "      <th>mean</th>\n",
       "      <td>169.6727</td>\n",
       "      <td>333000.0</td>\n",
       "    </tr>\n",
       "    <tr>\n",
       "      <th>max</th>\n",
       "      <td>529.2677</td>\n",
       "      <td>665500.0</td>\n",
       "    </tr>\n",
       "  </tbody>\n",
       "</table>\n",
       "</div>"
      ],
      "text/plain": [
       "      rollout/ep_rew_mean  time/total_timesteps\n",
       "mean             169.6727              333000.0\n",
       "max              529.2677              665500.0"
      ]
     },
     "execution_count": 22,
     "metadata": {},
     "output_type": "execute_result"
    }
   ],
   "source": [
    "round(A2C_2[['rollout/ep_rew_mean', 'time/total_timesteps']].describe().loc[['mean', 'max']], 4)"
   ]
  },
  {
   "cell_type": "code",
   "execution_count": 23,
   "id": "e0e621ea",
   "metadata": {},
   "outputs": [
    {
     "data": {
      "text/plain": [
       "rollout/ep_rew_mean        528.2493\n",
       "time/total_timesteps    665500.0000\n",
       "Name: 1330, dtype: float64"
      ]
     },
     "execution_count": 23,
     "metadata": {},
     "output_type": "execute_result"
    }
   ],
   "source": [
    "round(A2C_2[['rollout/ep_rew_mean', 'time/total_timesteps']].iloc[-1], 4)"
   ]
  },
  {
   "cell_type": "markdown",
   "id": "b61eff9d",
   "metadata": {},
   "source": [
    "<br>"
   ]
  },
  {
   "cell_type": "code",
   "execution_count": 24,
   "id": "329b658d",
   "metadata": {},
   "outputs": [
    {
     "data": {
      "text/html": [
       "<div>\n",
       "<style scoped>\n",
       "    .dataframe tbody tr th:only-of-type {\n",
       "        vertical-align: middle;\n",
       "    }\n",
       "\n",
       "    .dataframe tbody tr th {\n",
       "        vertical-align: top;\n",
       "    }\n",
       "\n",
       "    .dataframe thead th {\n",
       "        text-align: right;\n",
       "    }\n",
       "</style>\n",
       "<table border=\"1\" class=\"dataframe\">\n",
       "  <thead>\n",
       "    <tr style=\"text-align: right;\">\n",
       "      <th></th>\n",
       "      <th>rollout/ep_rew_mean</th>\n",
       "      <th>time/total_timesteps</th>\n",
       "    </tr>\n",
       "  </thead>\n",
       "  <tbody>\n",
       "    <tr>\n",
       "      <th>mean</th>\n",
       "      <td>47.3073</td>\n",
       "      <td>339968.0</td>\n",
       "    </tr>\n",
       "    <tr>\n",
       "      <th>max</th>\n",
       "      <td>603.2862</td>\n",
       "      <td>675840.0</td>\n",
       "    </tr>\n",
       "  </tbody>\n",
       "</table>\n",
       "</div>"
      ],
      "text/plain": [
       "      rollout/ep_rew_mean  time/total_timesteps\n",
       "mean              47.3073              339968.0\n",
       "max              603.2862              675840.0"
      ]
     },
     "execution_count": 24,
     "metadata": {},
     "output_type": "execute_result"
    }
   ],
   "source": [
    "round(PPO_2[['rollout/ep_rew_mean', 'time/total_timesteps']].describe().loc[['mean', 'max']], 4)"
   ]
  },
  {
   "cell_type": "code",
   "execution_count": 25,
   "id": "e908cfed",
   "metadata": {},
   "outputs": [
    {
     "data": {
      "text/plain": [
       "rollout/ep_rew_mean        603.0623\n",
       "time/total_timesteps    675840.0000\n",
       "Name: 328, dtype: float64"
      ]
     },
     "execution_count": 25,
     "metadata": {},
     "output_type": "execute_result"
    }
   ],
   "source": [
    "round(PPO_2[['rollout/ep_rew_mean', 'time/total_timesteps']].iloc[-1], 4)"
   ]
  },
  {
   "cell_type": "markdown",
   "id": "b52ea931",
   "metadata": {},
   "source": [
    "<br>"
   ]
  },
  {
   "cell_type": "code",
   "execution_count": 26,
   "id": "9af1c2d6",
   "metadata": {},
   "outputs": [
    {
     "data": {
      "text/html": [
       "<div>\n",
       "<style scoped>\n",
       "    .dataframe tbody tr th:only-of-type {\n",
       "        vertical-align: middle;\n",
       "    }\n",
       "\n",
       "    .dataframe tbody tr th {\n",
       "        vertical-align: top;\n",
       "    }\n",
       "\n",
       "    .dataframe thead th {\n",
       "        text-align: right;\n",
       "    }\n",
       "</style>\n",
       "<table border=\"1\" class=\"dataframe\">\n",
       "  <thead>\n",
       "    <tr style=\"text-align: right;\">\n",
       "      <th></th>\n",
       "      <th>rollout/ep_rew_mean</th>\n",
       "      <th>time/total_timesteps</th>\n",
       "    </tr>\n",
       "  </thead>\n",
       "  <tbody>\n",
       "    <tr>\n",
       "      <th>mean</th>\n",
       "      <td>-5430.2779</td>\n",
       "      <td>90384.0</td>\n",
       "    </tr>\n",
       "    <tr>\n",
       "      <th>max</th>\n",
       "      <td>-2317.6767</td>\n",
       "      <td>180672.0</td>\n",
       "    </tr>\n",
       "  </tbody>\n",
       "</table>\n",
       "</div>"
      ],
      "text/plain": [
       "      rollout/ep_rew_mean  time/total_timesteps\n",
       "mean           -5430.2779               90384.0\n",
       "max            -2317.6767              180672.0"
      ]
     },
     "execution_count": 26,
     "metadata": {},
     "output_type": "execute_result"
    }
   ],
   "source": [
    "round(SAC_2[['rollout/ep_rew_mean', 'time/total_timesteps']].describe().loc[['mean', 'max']], 4)"
   ]
  },
  {
   "cell_type": "code",
   "execution_count": 27,
   "id": "27859d29",
   "metadata": {},
   "outputs": [
    {
     "data": {
      "text/plain": [
       "rollout/ep_rew_mean      -8693.5734\n",
       "time/total_timesteps    180672.0000\n",
       "Name: 1881, dtype: float64"
      ]
     },
     "execution_count": 27,
     "metadata": {},
     "output_type": "execute_result"
    }
   ],
   "source": [
    "round(SAC_2[['rollout/ep_rew_mean', 'time/total_timesteps']].iloc[-1], 4)"
   ]
  },
  {
   "cell_type": "markdown",
   "id": "bdc3ed3f",
   "metadata": {},
   "source": [
    "<br>"
   ]
  },
  {
   "cell_type": "code",
   "execution_count": 28,
   "id": "82e5f17a",
   "metadata": {},
   "outputs": [
    {
     "data": {
      "text/html": [
       "<div>\n",
       "<style scoped>\n",
       "    .dataframe tbody tr th:only-of-type {\n",
       "        vertical-align: middle;\n",
       "    }\n",
       "\n",
       "    .dataframe tbody tr th {\n",
       "        vertical-align: top;\n",
       "    }\n",
       "\n",
       "    .dataframe thead th {\n",
       "        text-align: right;\n",
       "    }\n",
       "</style>\n",
       "<table border=\"1\" class=\"dataframe\">\n",
       "  <thead>\n",
       "    <tr style=\"text-align: right;\">\n",
       "      <th></th>\n",
       "      <th>rollout/ep_rew_mean</th>\n",
       "      <th>time/total_timesteps</th>\n",
       "    </tr>\n",
       "  </thead>\n",
       "  <tbody>\n",
       "    <tr>\n",
       "      <th>mean</th>\n",
       "      <td>461.5172</td>\n",
       "      <td>361152.0</td>\n",
       "    </tr>\n",
       "    <tr>\n",
       "      <th>max</th>\n",
       "      <td>653.9904</td>\n",
       "      <td>721920.0</td>\n",
       "    </tr>\n",
       "  </tbody>\n",
       "</table>\n",
       "</div>"
      ],
      "text/plain": [
       "      rollout/ep_rew_mean  time/total_timesteps\n",
       "mean             461.5172              361152.0\n",
       "max              653.9904              721920.0"
      ]
     },
     "execution_count": 28,
     "metadata": {},
     "output_type": "execute_result"
    }
   ],
   "source": [
    "round(ARS_2[['rollout/ep_rew_mean', 'time/total_timesteps']].describe().loc[['mean', 'max']], 4)"
   ]
  },
  {
   "cell_type": "code",
   "execution_count": 29,
   "id": "d00b830f",
   "metadata": {},
   "outputs": [
    {
     "data": {
      "text/plain": [
       "rollout/ep_rew_mean        653.7538\n",
       "time/total_timesteps    721920.0000\n",
       "Name: 1879, dtype: float64"
      ]
     },
     "execution_count": 29,
     "metadata": {},
     "output_type": "execute_result"
    }
   ],
   "source": [
    "round(ARS_2[['rollout/ep_rew_mean', 'time/total_timesteps']].iloc[-1], 4)"
   ]
  },
  {
   "cell_type": "markdown",
   "id": "cdadba85",
   "metadata": {},
   "source": [
    "<br>"
   ]
  },
  {
   "cell_type": "markdown",
   "id": "f4427bd8",
   "metadata": {},
   "source": [
    "### Training 3"
   ]
  },
  {
   "cell_type": "code",
   "execution_count": 30,
   "id": "1a2c164f",
   "metadata": {},
   "outputs": [
    {
     "data": {
      "text/html": [
       "<div>\n",
       "<style scoped>\n",
       "    .dataframe tbody tr th:only-of-type {\n",
       "        vertical-align: middle;\n",
       "    }\n",
       "\n",
       "    .dataframe tbody tr th {\n",
       "        vertical-align: top;\n",
       "    }\n",
       "\n",
       "    .dataframe thead th {\n",
       "        text-align: right;\n",
       "    }\n",
       "</style>\n",
       "<table border=\"1\" class=\"dataframe\">\n",
       "  <thead>\n",
       "    <tr style=\"text-align: right;\">\n",
       "      <th></th>\n",
       "      <th>rollout/ep_rew_mean</th>\n",
       "      <th>time/total_timesteps</th>\n",
       "    </tr>\n",
       "  </thead>\n",
       "  <tbody>\n",
       "    <tr>\n",
       "      <th>mean</th>\n",
       "      <td>416.649</td>\n",
       "      <td>381952.0</td>\n",
       "    </tr>\n",
       "    <tr>\n",
       "      <th>max</th>\n",
       "      <td>612.572</td>\n",
       "      <td>761856.0</td>\n",
       "    </tr>\n",
       "  </tbody>\n",
       "</table>\n",
       "</div>"
      ],
      "text/plain": [
       "      rollout/ep_rew_mean  time/total_timesteps\n",
       "mean              416.649              381952.0\n",
       "max               612.572              761856.0"
      ]
     },
     "execution_count": 30,
     "metadata": {},
     "output_type": "execute_result"
    }
   ],
   "source": [
    "round(TRPO_3[['rollout/ep_rew_mean', 'time/total_timesteps']].describe().loc[['mean', 'max']], 4)"
   ]
  },
  {
   "cell_type": "code",
   "execution_count": 31,
   "id": "4aaa0622",
   "metadata": {},
   "outputs": [
    {
     "data": {
      "text/plain": [
       "rollout/ep_rew_mean        612.5158\n",
       "time/total_timesteps    761856.0000\n",
       "Name: 371, dtype: float64"
      ]
     },
     "execution_count": 31,
     "metadata": {},
     "output_type": "execute_result"
    }
   ],
   "source": [
    "round(TRPO_3[['rollout/ep_rew_mean', 'time/total_timesteps']].iloc[-1], 4)"
   ]
  },
  {
   "cell_type": "markdown",
   "id": "fcc0f16a",
   "metadata": {},
   "source": [
    "<br>"
   ]
  },
  {
   "cell_type": "code",
   "execution_count": 32,
   "id": "8a6c5b24",
   "metadata": {},
   "outputs": [
    {
     "data": {
      "text/html": [
       "<div>\n",
       "<style scoped>\n",
       "    .dataframe tbody tr th:only-of-type {\n",
       "        vertical-align: middle;\n",
       "    }\n",
       "\n",
       "    .dataframe tbody tr th {\n",
       "        vertical-align: top;\n",
       "    }\n",
       "\n",
       "    .dataframe thead th {\n",
       "        text-align: right;\n",
       "    }\n",
       "</style>\n",
       "<table border=\"1\" class=\"dataframe\">\n",
       "  <thead>\n",
       "    <tr style=\"text-align: right;\">\n",
       "      <th></th>\n",
       "      <th>rollout/ep_rew_mean</th>\n",
       "      <th>time/total_timesteps</th>\n",
       "    </tr>\n",
       "  </thead>\n",
       "  <tbody>\n",
       "    <tr>\n",
       "      <th>mean</th>\n",
       "      <td>345.1026</td>\n",
       "      <td>576250.0</td>\n",
       "    </tr>\n",
       "    <tr>\n",
       "      <th>max</th>\n",
       "      <td>612.6998</td>\n",
       "      <td>1152000.0</td>\n",
       "    </tr>\n",
       "  </tbody>\n",
       "</table>\n",
       "</div>"
      ],
      "text/plain": [
       "      rollout/ep_rew_mean  time/total_timesteps\n",
       "mean             345.1026              576250.0\n",
       "max              612.6998             1152000.0"
      ]
     },
     "execution_count": 32,
     "metadata": {},
     "output_type": "execute_result"
    }
   ],
   "source": [
    "round(A2C_3[['rollout/ep_rew_mean', 'time/total_timesteps']].describe().loc[['mean', 'max']], 4)"
   ]
  },
  {
   "cell_type": "code",
   "execution_count": 33,
   "id": "2db13891",
   "metadata": {},
   "outputs": [
    {
     "data": {
      "text/plain": [
       "rollout/ep_rew_mean     6.113738e+02\n",
       "time/total_timesteps    1.152000e+06\n",
       "Name: 2303, dtype: float64"
      ]
     },
     "execution_count": 33,
     "metadata": {},
     "output_type": "execute_result"
    }
   ],
   "source": [
    "round(A2C_3[['rollout/ep_rew_mean', 'time/total_timesteps']].iloc[-1], 4)"
   ]
  },
  {
   "cell_type": "markdown",
   "id": "f8bf2795",
   "metadata": {},
   "source": [
    "<br>"
   ]
  },
  {
   "cell_type": "code",
   "execution_count": 34,
   "id": "a90c058c",
   "metadata": {},
   "outputs": [
    {
     "data": {
      "text/html": [
       "<div>\n",
       "<style scoped>\n",
       "    .dataframe tbody tr th:only-of-type {\n",
       "        vertical-align: middle;\n",
       "    }\n",
       "\n",
       "    .dataframe tbody tr th {\n",
       "        vertical-align: top;\n",
       "    }\n",
       "\n",
       "    .dataframe thead th {\n",
       "        text-align: right;\n",
       "    }\n",
       "</style>\n",
       "<table border=\"1\" class=\"dataframe\">\n",
       "  <thead>\n",
       "    <tr style=\"text-align: right;\">\n",
       "      <th></th>\n",
       "      <th>rollout/ep_rew_mean</th>\n",
       "      <th>time/total_timesteps</th>\n",
       "    </tr>\n",
       "  </thead>\n",
       "  <tbody>\n",
       "    <tr>\n",
       "      <th>mean</th>\n",
       "      <td>145.141</td>\n",
       "      <td>381952.0</td>\n",
       "    </tr>\n",
       "    <tr>\n",
       "      <th>max</th>\n",
       "      <td>609.089</td>\n",
       "      <td>761856.0</td>\n",
       "    </tr>\n",
       "  </tbody>\n",
       "</table>\n",
       "</div>"
      ],
      "text/plain": [
       "      rollout/ep_rew_mean  time/total_timesteps\n",
       "mean              145.141              381952.0\n",
       "max               609.089              761856.0"
      ]
     },
     "execution_count": 34,
     "metadata": {},
     "output_type": "execute_result"
    }
   ],
   "source": [
    "round(PPO_3[['rollout/ep_rew_mean', 'time/total_timesteps']].describe().loc[['mean', 'max']], 4)"
   ]
  },
  {
   "cell_type": "code",
   "execution_count": 35,
   "id": "9f38c8f2",
   "metadata": {},
   "outputs": [
    {
     "data": {
      "text/plain": [
       "rollout/ep_rew_mean        608.9814\n",
       "time/total_timesteps    761856.0000\n",
       "Name: 371, dtype: float64"
      ]
     },
     "execution_count": 35,
     "metadata": {},
     "output_type": "execute_result"
    }
   ],
   "source": [
    "round(PPO_3[['rollout/ep_rew_mean', 'time/total_timesteps']].iloc[-1], 4)"
   ]
  },
  {
   "cell_type": "markdown",
   "id": "55c29b9c",
   "metadata": {},
   "source": [
    "<br>"
   ]
  },
  {
   "cell_type": "code",
   "execution_count": 36,
   "id": "1d96f75f",
   "metadata": {},
   "outputs": [
    {
     "data": {
      "text/html": [
       "<div>\n",
       "<style scoped>\n",
       "    .dataframe tbody tr th:only-of-type {\n",
       "        vertical-align: middle;\n",
       "    }\n",
       "\n",
       "    .dataframe tbody tr th {\n",
       "        vertical-align: top;\n",
       "    }\n",
       "\n",
       "    .dataframe thead th {\n",
       "        text-align: right;\n",
       "    }\n",
       "</style>\n",
       "<table border=\"1\" class=\"dataframe\">\n",
       "  <thead>\n",
       "    <tr style=\"text-align: right;\">\n",
       "      <th></th>\n",
       "      <th>rollout/ep_rew_mean</th>\n",
       "      <th>time/total_timesteps</th>\n",
       "    </tr>\n",
       "  </thead>\n",
       "  <tbody>\n",
       "    <tr>\n",
       "      <th>mean</th>\n",
       "      <td>-6603.5427</td>\n",
       "      <td>164496.0</td>\n",
       "    </tr>\n",
       "    <tr>\n",
       "      <th>max</th>\n",
       "      <td>-1520.2705</td>\n",
       "      <td>328896.0</td>\n",
       "    </tr>\n",
       "  </tbody>\n",
       "</table>\n",
       "</div>"
      ],
      "text/plain": [
       "      rollout/ep_rew_mean  time/total_timesteps\n",
       "mean           -6603.5427              164496.0\n",
       "max            -1520.2705              328896.0"
      ]
     },
     "execution_count": 36,
     "metadata": {},
     "output_type": "execute_result"
    }
   ],
   "source": [
    "round(SAC_3[['rollout/ep_rew_mean', 'time/total_timesteps']].describe().loc[['mean', 'max']], 4)"
   ]
  },
  {
   "cell_type": "code",
   "execution_count": 37,
   "id": "29670a63",
   "metadata": {},
   "outputs": [
    {
     "data": {
      "text/plain": [
       "rollout/ep_rew_mean      -6903.3306\n",
       "time/total_timesteps    328896.0000\n",
       "Name: 3425, dtype: float64"
      ]
     },
     "execution_count": 37,
     "metadata": {},
     "output_type": "execute_result"
    }
   ],
   "source": [
    "round(SAC_3[['rollout/ep_rew_mean', 'time/total_timesteps']].iloc[-1], 4)"
   ]
  },
  {
   "cell_type": "markdown",
   "id": "9c7422f5",
   "metadata": {},
   "source": [
    "<br>"
   ]
  },
  {
   "cell_type": "code",
   "execution_count": 38,
   "id": "c8d07450",
   "metadata": {},
   "outputs": [
    {
     "data": {
      "text/html": [
       "<div>\n",
       "<style scoped>\n",
       "    .dataframe tbody tr th:only-of-type {\n",
       "        vertical-align: middle;\n",
       "    }\n",
       "\n",
       "    .dataframe tbody tr th {\n",
       "        vertical-align: top;\n",
       "    }\n",
       "\n",
       "    .dataframe thead th {\n",
       "        text-align: right;\n",
       "    }\n",
       "</style>\n",
       "<table border=\"1\" class=\"dataframe\">\n",
       "  <thead>\n",
       "    <tr style=\"text-align: right;\">\n",
       "      <th></th>\n",
       "      <th>rollout/ep_rew_mean</th>\n",
       "      <th>time/total_timesteps</th>\n",
       "    </tr>\n",
       "  </thead>\n",
       "  <tbody>\n",
       "    <tr>\n",
       "      <th>mean</th>\n",
       "      <td>492.4325</td>\n",
       "      <td>386112.0</td>\n",
       "    </tr>\n",
       "    <tr>\n",
       "      <th>max</th>\n",
       "      <td>646.0556</td>\n",
       "      <td>771840.0</td>\n",
       "    </tr>\n",
       "  </tbody>\n",
       "</table>\n",
       "</div>"
      ],
      "text/plain": [
       "      rollout/ep_rew_mean  time/total_timesteps\n",
       "mean             492.4325              386112.0\n",
       "max              646.0556              771840.0"
      ]
     },
     "execution_count": 38,
     "metadata": {},
     "output_type": "execute_result"
    }
   ],
   "source": [
    "round(ARS_3[['rollout/ep_rew_mean', 'time/total_timesteps']].describe().loc[['mean', 'max']], 4)"
   ]
  },
  {
   "cell_type": "code",
   "execution_count": 39,
   "id": "d5b8935e",
   "metadata": {},
   "outputs": [
    {
     "data": {
      "text/plain": [
       "rollout/ep_rew_mean        645.6006\n",
       "time/total_timesteps    771840.0000\n",
       "Name: 2009, dtype: float64"
      ]
     },
     "execution_count": 39,
     "metadata": {},
     "output_type": "execute_result"
    }
   ],
   "source": [
    "round(ARS_3[['rollout/ep_rew_mean', 'time/total_timesteps']].iloc[-1], 4)"
   ]
  },
  {
   "cell_type": "markdown",
   "id": "3f574037",
   "metadata": {},
   "source": [
    "<br>"
   ]
  },
  {
   "cell_type": "markdown",
   "id": "7ad0fa92",
   "metadata": {},
   "source": [
    "### Training 4"
   ]
  },
  {
   "cell_type": "code",
   "execution_count": 40,
   "id": "6904ce17",
   "metadata": {},
   "outputs": [
    {
     "data": {
      "text/html": [
       "<div>\n",
       "<style scoped>\n",
       "    .dataframe tbody tr th:only-of-type {\n",
       "        vertical-align: middle;\n",
       "    }\n",
       "\n",
       "    .dataframe tbody tr th {\n",
       "        vertical-align: top;\n",
       "    }\n",
       "\n",
       "    .dataframe thead th {\n",
       "        text-align: right;\n",
       "    }\n",
       "</style>\n",
       "<table border=\"1\" class=\"dataframe\">\n",
       "  <thead>\n",
       "    <tr style=\"text-align: right;\">\n",
       "      <th></th>\n",
       "      <th>rollout/ep_rew_mean</th>\n",
       "      <th>time/total_timesteps</th>\n",
       "    </tr>\n",
       "  </thead>\n",
       "  <tbody>\n",
       "    <tr>\n",
       "      <th>mean</th>\n",
       "      <td>439.0174</td>\n",
       "      <td>389120.0</td>\n",
       "    </tr>\n",
       "    <tr>\n",
       "      <th>max</th>\n",
       "      <td>615.5993</td>\n",
       "      <td>776192.0</td>\n",
       "    </tr>\n",
       "  </tbody>\n",
       "</table>\n",
       "</div>"
      ],
      "text/plain": [
       "      rollout/ep_rew_mean  time/total_timesteps\n",
       "mean             439.0174              389120.0\n",
       "max              615.5993              776192.0"
      ]
     },
     "execution_count": 40,
     "metadata": {},
     "output_type": "execute_result"
    }
   ],
   "source": [
    "round(TRPO_4[['rollout/ep_rew_mean', 'time/total_timesteps']].describe().loc[['mean', 'max']], 4)"
   ]
  },
  {
   "cell_type": "code",
   "execution_count": 41,
   "id": "4d37cf45",
   "metadata": {},
   "outputs": [
    {
     "data": {
      "text/plain": [
       "rollout/ep_rew_mean        614.5322\n",
       "time/total_timesteps    776192.0000\n",
       "Name: 378, dtype: float64"
      ]
     },
     "execution_count": 41,
     "metadata": {},
     "output_type": "execute_result"
    }
   ],
   "source": [
    "round(TRPO_4[['rollout/ep_rew_mean', 'time/total_timesteps']].iloc[-1], 4)"
   ]
  },
  {
   "cell_type": "markdown",
   "id": "151ea05c",
   "metadata": {},
   "source": [
    "<br>"
   ]
  },
  {
   "cell_type": "code",
   "execution_count": 42,
   "id": "cb18e910",
   "metadata": {},
   "outputs": [
    {
     "data": {
      "text/html": [
       "<div>\n",
       "<style scoped>\n",
       "    .dataframe tbody tr th:only-of-type {\n",
       "        vertical-align: middle;\n",
       "    }\n",
       "\n",
       "    .dataframe tbody tr th {\n",
       "        vertical-align: top;\n",
       "    }\n",
       "\n",
       "    .dataframe thead th {\n",
       "        text-align: right;\n",
       "    }\n",
       "</style>\n",
       "<table border=\"1\" class=\"dataframe\">\n",
       "  <thead>\n",
       "    <tr style=\"text-align: right;\">\n",
       "      <th></th>\n",
       "      <th>rollout/ep_rew_mean</th>\n",
       "      <th>time/total_timesteps</th>\n",
       "    </tr>\n",
       "  </thead>\n",
       "  <tbody>\n",
       "    <tr>\n",
       "      <th>mean</th>\n",
       "      <td>432.0617</td>\n",
       "      <td>377250.0</td>\n",
       "    </tr>\n",
       "    <tr>\n",
       "      <th>max</th>\n",
       "      <td>607.0829</td>\n",
       "      <td>754000.0</td>\n",
       "    </tr>\n",
       "  </tbody>\n",
       "</table>\n",
       "</div>"
      ],
      "text/plain": [
       "      rollout/ep_rew_mean  time/total_timesteps\n",
       "mean             432.0617              377250.0\n",
       "max              607.0829              754000.0"
      ]
     },
     "execution_count": 42,
     "metadata": {},
     "output_type": "execute_result"
    }
   ],
   "source": [
    "round(A2C_4[['rollout/ep_rew_mean', 'time/total_timesteps']].describe().loc[['mean', 'max']], 4)"
   ]
  },
  {
   "cell_type": "code",
   "execution_count": 43,
   "id": "114fd29b",
   "metadata": {},
   "outputs": [
    {
     "data": {
      "text/plain": [
       "rollout/ep_rew_mean        597.0429\n",
       "time/total_timesteps    754000.0000\n",
       "Name: 1507, dtype: float64"
      ]
     },
     "execution_count": 43,
     "metadata": {},
     "output_type": "execute_result"
    }
   ],
   "source": [
    "round(A2C_4[['rollout/ep_rew_mean', 'time/total_timesteps']].iloc[-1], 4)"
   ]
  },
  {
   "cell_type": "markdown",
   "id": "1fdcc2b4",
   "metadata": {},
   "source": [
    "<br>"
   ]
  },
  {
   "cell_type": "code",
   "execution_count": 44,
   "id": "6b2b4409",
   "metadata": {},
   "outputs": [
    {
     "data": {
      "text/html": [
       "<div>\n",
       "<style scoped>\n",
       "    .dataframe tbody tr th:only-of-type {\n",
       "        vertical-align: middle;\n",
       "    }\n",
       "\n",
       "    .dataframe tbody tr th {\n",
       "        vertical-align: top;\n",
       "    }\n",
       "\n",
       "    .dataframe thead th {\n",
       "        text-align: right;\n",
       "    }\n",
       "</style>\n",
       "<table border=\"1\" class=\"dataframe\">\n",
       "  <thead>\n",
       "    <tr style=\"text-align: right;\">\n",
       "      <th></th>\n",
       "      <th>rollout/ep_rew_mean</th>\n",
       "      <th>time/total_timesteps</th>\n",
       "    </tr>\n",
       "  </thead>\n",
       "  <tbody>\n",
       "    <tr>\n",
       "      <th>mean</th>\n",
       "      <td>161.3811</td>\n",
       "      <td>380928.0</td>\n",
       "    </tr>\n",
       "    <tr>\n",
       "      <th>max</th>\n",
       "      <td>611.7680</td>\n",
       "      <td>759808.0</td>\n",
       "    </tr>\n",
       "  </tbody>\n",
       "</table>\n",
       "</div>"
      ],
      "text/plain": [
       "      rollout/ep_rew_mean  time/total_timesteps\n",
       "mean             161.3811              380928.0\n",
       "max              611.7680              759808.0"
      ]
     },
     "execution_count": 44,
     "metadata": {},
     "output_type": "execute_result"
    }
   ],
   "source": [
    "round(PPO_4[['rollout/ep_rew_mean', 'time/total_timesteps']].describe().loc[['mean', 'max']], 4)"
   ]
  },
  {
   "cell_type": "code",
   "execution_count": 45,
   "id": "d0cf5631",
   "metadata": {},
   "outputs": [
    {
     "data": {
      "text/plain": [
       "rollout/ep_rew_mean        611.7216\n",
       "time/total_timesteps    759808.0000\n",
       "Name: 370, dtype: float64"
      ]
     },
     "execution_count": 45,
     "metadata": {},
     "output_type": "execute_result"
    }
   ],
   "source": [
    "round(PPO_4[['rollout/ep_rew_mean', 'time/total_timesteps']].iloc[-1], 4)"
   ]
  },
  {
   "cell_type": "markdown",
   "id": "4f3eb85c",
   "metadata": {},
   "source": [
    "<br>"
   ]
  },
  {
   "cell_type": "code",
   "execution_count": 46,
   "id": "3d306c09",
   "metadata": {},
   "outputs": [
    {
     "data": {
      "text/html": [
       "<div>\n",
       "<style scoped>\n",
       "    .dataframe tbody tr th:only-of-type {\n",
       "        vertical-align: middle;\n",
       "    }\n",
       "\n",
       "    .dataframe tbody tr th {\n",
       "        vertical-align: top;\n",
       "    }\n",
       "\n",
       "    .dataframe thead th {\n",
       "        text-align: right;\n",
       "    }\n",
       "</style>\n",
       "<table border=\"1\" class=\"dataframe\">\n",
       "  <thead>\n",
       "    <tr style=\"text-align: right;\">\n",
       "      <th></th>\n",
       "      <th>rollout/ep_rew_mean</th>\n",
       "      <th>time/total_timesteps</th>\n",
       "    </tr>\n",
       "  </thead>\n",
       "  <tbody>\n",
       "    <tr>\n",
       "      <th>mean</th>\n",
       "      <td>-6163.9258</td>\n",
       "      <td>167232.0</td>\n",
       "    </tr>\n",
       "    <tr>\n",
       "      <th>max</th>\n",
       "      <td>-2020.9177</td>\n",
       "      <td>334368.0</td>\n",
       "    </tr>\n",
       "  </tbody>\n",
       "</table>\n",
       "</div>"
      ],
      "text/plain": [
       "      rollout/ep_rew_mean  time/total_timesteps\n",
       "mean           -6163.9258              167232.0\n",
       "max            -2020.9177              334368.0"
      ]
     },
     "execution_count": 46,
     "metadata": {},
     "output_type": "execute_result"
    }
   ],
   "source": [
    "round(SAC_4[['rollout/ep_rew_mean', 'time/total_timesteps']].describe().loc[['mean', 'max']], 4)"
   ]
  },
  {
   "cell_type": "code",
   "execution_count": 47,
   "id": "ddeef6ea",
   "metadata": {},
   "outputs": [
    {
     "data": {
      "text/plain": [
       "rollout/ep_rew_mean      -7041.905\n",
       "time/total_timesteps    334368.000\n",
       "Name: 3482, dtype: float64"
      ]
     },
     "execution_count": 47,
     "metadata": {},
     "output_type": "execute_result"
    }
   ],
   "source": [
    "round(SAC_4[['rollout/ep_rew_mean', 'time/total_timesteps']].iloc[-1], 4)"
   ]
  },
  {
   "cell_type": "markdown",
   "id": "381bb10c",
   "metadata": {},
   "source": [
    "<br>"
   ]
  },
  {
   "cell_type": "code",
   "execution_count": 48,
   "id": "15a1c746",
   "metadata": {},
   "outputs": [
    {
     "data": {
      "text/html": [
       "<div>\n",
       "<style scoped>\n",
       "    .dataframe tbody tr th:only-of-type {\n",
       "        vertical-align: middle;\n",
       "    }\n",
       "\n",
       "    .dataframe tbody tr th {\n",
       "        vertical-align: top;\n",
       "    }\n",
       "\n",
       "    .dataframe thead th {\n",
       "        text-align: right;\n",
       "    }\n",
       "</style>\n",
       "<table border=\"1\" class=\"dataframe\">\n",
       "  <thead>\n",
       "    <tr style=\"text-align: right;\">\n",
       "      <th></th>\n",
       "      <th>rollout/ep_rew_mean</th>\n",
       "      <th>time/total_timesteps</th>\n",
       "    </tr>\n",
       "  </thead>\n",
       "  <tbody>\n",
       "    <tr>\n",
       "      <th>mean</th>\n",
       "      <td>442.9504</td>\n",
       "      <td>389376.0</td>\n",
       "    </tr>\n",
       "    <tr>\n",
       "      <th>max</th>\n",
       "      <td>642.1124</td>\n",
       "      <td>778368.0</td>\n",
       "    </tr>\n",
       "  </tbody>\n",
       "</table>\n",
       "</div>"
      ],
      "text/plain": [
       "      rollout/ep_rew_mean  time/total_timesteps\n",
       "mean             442.9504              389376.0\n",
       "max              642.1124              778368.0"
      ]
     },
     "execution_count": 48,
     "metadata": {},
     "output_type": "execute_result"
    }
   ],
   "source": [
    "round(ARS_4[['rollout/ep_rew_mean', 'time/total_timesteps']].describe().loc[['mean', 'max']], 4)"
   ]
  },
  {
   "cell_type": "code",
   "execution_count": 49,
   "id": "57587cae",
   "metadata": {},
   "outputs": [
    {
     "data": {
      "text/plain": [
       "rollout/ep_rew_mean        638.5094\n",
       "time/total_timesteps    778368.0000\n",
       "Name: 2026, dtype: float64"
      ]
     },
     "execution_count": 49,
     "metadata": {},
     "output_type": "execute_result"
    }
   ],
   "source": [
    "round(ARS_4[['rollout/ep_rew_mean', 'time/total_timesteps']].iloc[-1], 4)"
   ]
  },
  {
   "cell_type": "markdown",
   "id": "d0acbf28",
   "metadata": {},
   "source": [
    "<br>"
   ]
  },
  {
   "cell_type": "markdown",
   "id": "0c2be4ac",
   "metadata": {},
   "source": [
    "# Creating Charts for the figures (note: edited in Adobe Photoshop afterwards)"
   ]
  },
  {
   "cell_type": "code",
   "execution_count": 71,
   "id": "56371c9f",
   "metadata": {
    "scrolled": false
   },
   "outputs": [
    {
     "data": {
      "image/png": "[encoded data removed]",
      "text/plain": [
       "<Figure size 500x400 with 1 Axes>"
      ]
     },
     "metadata": {},
     "output_type": "display_data"
    }
   ],
   "source": [
    "fig = plt.figure()\n",
    "\n",
    "plt.plot(ARS_1['time/time_elapsed'], ARS_1['rollout/ep_rew_mean'], '#FBC252', label='ARS', linewidth=2)\n",
    "plt.plot(A2C_1['time/time_elapsed'], A2C_1['rollout/ep_rew_mean'], 'b', label='A2C', linewidth=2)\n",
    "plt.plot(PPO_1['time/time_elapsed'], PPO_1['rollout/ep_rew_mean'], 'r', label='PPO', linewidth=2)\n",
    "# plt.plot(SAC_1['time/time_elapsed'], SAC_1['rollout/ep_rew_mean'], 'c', label='SAC', linewidth=2)\n",
    "plt.plot(TRPO_1['time/time_elapsed'], TRPO_1['rollout/ep_rew_mean'], 'c', label='TRPO', linewidth=2)\n",
    "\n",
    "plt.xlabel('Time in minutes')\n",
    "plt.ylabel('Mean episodic profit / 100 episodes')\n",
    "  \n",
    "# giving a title to my graph\n",
    "plt.title('Training process 1')\n",
    "\n",
    "\n",
    "plt.ylim(-700, 800)\n",
    "#plt.ylim(-7000, 700)\n",
    "plt.xlim(0,240)\n",
    "\n",
    "plt.tight_layout()\n",
    "# plt.legend(loc='upper center', bbox_to_anchor=(0.5, -0.15),\n",
    "#           fancybox=True, shadow=False, ncol=5)\n",
    "plt.show() \n",
    "\n",
    "fig.savefig('Chart1.png')"
   ]
  },
  {
   "cell_type": "code",
   "execution_count": 72,
   "id": "afed5a86",
   "metadata": {},
   "outputs": [
    {
     "data": {
      "image/png": "[encoded data removed]",
      "text/plain": [
       "<Figure size 500x400 with 1 Axes>"
      ]
     },
     "metadata": {},
     "output_type": "display_data"
    }
   ],
   "source": [
    "fig = plt.figure()\n",
    "\n",
    "plt.plot(ARS_2['time/time_elapsed'], ARS_2['rollout/ep_rew_mean'], '#FBC252', label='ARS', linewidth=2)\n",
    "plt.plot(A2C_2['time/time_elapsed'], A2C_2['rollout/ep_rew_mean'], 'b', label='A2C', linewidth=2)\n",
    "plt.plot(PPO_2['time/time_elapsed'], PPO_2['rollout/ep_rew_mean'], 'r', label='PPO', linewidth=2)\n",
    "# plt.plot(SAC_2['time/time_elapsed'], SAC_2['rollout/ep_rew_mean'], 'c', label='SAC', linewidth=2)\n",
    "plt.plot(TRPO_2['time/time_elapsed'], TRPO_2['rollout/ep_rew_mean'], 'c', label='TRPO', linewidth=2)\n",
    "\n",
    "plt.xlabel('Time in minutes')\n",
    "plt.ylabel('Mean episodic profit / 100 episodes')\n",
    "  \n",
    "# giving a title to my graph\n",
    "plt.title('Training process 2')\n",
    "\n",
    "plt.ylim(-700, 800)\n",
    "#plt.ylim(-7000, 700)\n",
    "plt.xlim(0,240)\n",
    "\n",
    "\n",
    "plt.tight_layout()\n",
    "# plt.legend(loc='upper center', bbox_to_anchor=(0.5, -0.15),\n",
    "#           fancybox=True, shadow=False, ncol=5)\n",
    "plt.show() \n",
    "\n",
    "fig.savefig('Chart2.png')"
   ]
  },
  {
   "cell_type": "code",
   "execution_count": 73,
   "id": "61a57861",
   "metadata": {},
   "outputs": [
    {
     "data": {
      "image/png": "[encoded data removed]",
      "text/plain": [
       "<Figure size 500x400 with 1 Axes>"
      ]
     },
     "metadata": {},
     "output_type": "display_data"
    }
   ],
   "source": [
    "fig = plt.figure()\n",
    "\n",
    "plt.plot(ARS_3['time/time_elapsed'], ARS_3['rollout/ep_rew_mean'], '#FBC252', label='ARS', linewidth=2)\n",
    "plt.plot(A2C_3['time/time_elapsed'], A2C_3['rollout/ep_rew_mean'], 'b', label='A2C', linewidth=2)\n",
    "plt.plot(PPO_3['time/time_elapsed'], PPO_3['rollout/ep_rew_mean'], 'r', label='PPO', linewidth=2)\n",
    "# plt.plot(SAC_3['time/time_elapsed'], SAC_3['rollout/ep_rew_mean'], 'c', label='SAC', linewidth=2)\n",
    "plt.plot(TRPO_3['time/time_elapsed'], TRPO_3['rollout/ep_rew_mean'], 'c', label='TRPO', linewidth=2)\n",
    "\n",
    "plt.xlabel('Time in minutes')\n",
    "plt.ylabel('Mean episodic profit / 100 episodes')\n",
    "  \n",
    "# giving a title to my graph\n",
    "plt.title('Training process 3')\n",
    "\n",
    "plt.ylim(-700, 800)\n",
    "#plt.ylim(-7000, 700)\n",
    "plt.xlim(0,240)\n",
    "\n",
    "\n",
    "plt.tight_layout()\n",
    "# plt.legend(loc='upper center', bbox_to_anchor=(0.5, -0.15),\n",
    "#           fancybox=True, shadow=False, ncol=5)\n",
    "plt.show() \n",
    "\n",
    "fig.savefig('Chart3.png')"
   ]
  },
  {
   "cell_type": "code",
   "execution_count": 74,
   "id": "5b1ff99b",
   "metadata": {},
   "outputs": [
    {
     "data": {
      "image/png": "[encoded data removed]",
      "text/plain": [
       "<Figure size 500x400 with 1 Axes>"
      ]
     },
     "metadata": {},
     "output_type": "display_data"
    }
   ],
   "source": [
    "fig = plt.figure()\n",
    "\n",
    "plt.plot(ARS_4['time/time_elapsed'], ARS_4['rollout/ep_rew_mean'], '#FBC252', label='ARS', linewidth=2)\n",
    "plt.plot(A2C_4['time/time_elapsed'], A2C_4['rollout/ep_rew_mean'], 'b', label='A2C', linewidth=2)\n",
    "plt.plot(PPO_4['time/time_elapsed'], PPO_4['rollout/ep_rew_mean'], 'r', label='PPO', linewidth=2)\n",
    "# plt.plot(SAC_4['time/time_elapsed'], SAC_4['rollout/ep_rew_mean'], 'c', label='SAC', linewidth=2)\n",
    "plt.plot(TRPO_4['time/time_elapsed'], TRPO_4['rollout/ep_rew_mean'], 'c', label='TRPO', linewidth=2)\n",
    "\n",
    "plt.xlabel('Time in minutes')\n",
    "plt.ylabel('Mean episodic profit / 100 episodes')\n",
    "  \n",
    "# giving a title to my graph\n",
    "plt.title('Training process 4')\n",
    "\n",
    "plt.ylim(-700, 800)\n",
    "#plt.ylim(-7000, 700)\n",
    "plt.xlim(0,240)\n",
    "\n",
    "\n",
    "plt.tight_layout()\n",
    "# plt.legend(loc='upper center', bbox_to_anchor=(0.5, -0.15),\n",
    "#           fancybox=True, shadow=False, ncol=5)\n",
    "#plt.legend(loc='lower right')\n",
    "plt.show() \n",
    "\n",
    "fig.savefig('Chart4.png')"
   ]
  },
  {
   "cell_type": "markdown",
   "id": "9f1d53b5",
   "metadata": {},
   "source": []
  },
  {
   "cell_type": "code",
   "execution_count": 78,
   "id": "fa9d1a2c",
   "metadata": {},
   "outputs": [
    {
     "data": {
      "image/png": "[encoded data removed]",
      "text/plain": [
       "<Figure size 500x400 with 1 Axes>"
      ]
     },
     "metadata": {},
     "output_type": "display_data"
    }
   ],
   "source": [
    "fig = plt.figure()\n",
    "\n",
    "plt.plot(SAC_1['time/time_elapsed'], SAC_1['rollout/ep_rew_mean'], '#FBC252', label='SAC 1', linewidth=2)\n",
    "plt.plot(SAC_2['time/time_elapsed'], SAC_2['rollout/ep_rew_mean'], 'b', label='SAC 2', linewidth=2)\n",
    "plt.plot(SAC_3['time/time_elapsed'], SAC_3['rollout/ep_rew_mean'], 'r', label='SAC 3', linewidth=2)\n",
    "plt.plot(SAC_4['time/time_elapsed'], SAC_4['rollout/ep_rew_mean'], 'c', label='SAC 4', linewidth=2)\n",
    "\n",
    "plt.xlabel('Time in minutes')\n",
    "plt.ylabel('Mean episodic profit / 100 episodes')\n",
    "  \n",
    "# giving a title to my graph\n",
    "# plt.title('SAC training process 1-4')\n",
    "\n",
    "plt.ylim(-20000, 0)\n",
    "plt.xlim(0,240)\n",
    "\n",
    "\n",
    "plt.tight_layout()\n",
    "plt.legend(loc='upper center', bbox_to_anchor=(0.5, -0.15),\n",
    "          fancybox=True, shadow=False, ncol=5)\n",
    "plt.show() \n",
    "\n",
    "fig.savefig('SAC.png')"
   ]
  },
  {
   "cell_type": "code",
   "execution_count": null,
   "id": "1a002c8c",
   "metadata": {},
   "outputs": [],
   "source": []
  },
  {
   "cell_type": "markdown",
   "id": "a090676f",
   "metadata": {},
   "source": [
    "# Seperate plot to copy the right legend order"
   ]
  },
  {
   "cell_type": "code",
   "execution_count": 77,
   "id": "8f3dfbdd",
   "metadata": {},
   "outputs": [
    {
     "data": {
      "image/png": "[encoded data removed]",
      "text/plain": [
       "<Figure size 500x400 with 1 Axes>"
      ]
     },
     "metadata": {},
     "output_type": "display_data"
    }
   ],
   "source": [
    "fig = plt.figure()\n",
    "\n",
    "plt.plot(TRPO_3['time/time_elapsed'], TRPO_3['rollout/ep_rew_mean'], 'c', label='TRPO', linewidth=2)\n",
    "plt.plot(A2C_3['time/time_elapsed'], A2C_3['rollout/ep_rew_mean'], 'b', label='A2C', linewidth=2)\n",
    "plt.plot(PPO_3['time/time_elapsed'], PPO_3['rollout/ep_rew_mean'], 'r', label='PPO', linewidth=2)\n",
    "# plt.plot(SAC_3['time/time_elapsed'], SAC_3['rollout/ep_rew_mean'], 'c', label='SAC', linewidth=2)\n",
    "plt.plot(ARS_3['time/time_elapsed'], ARS_3['rollout/ep_rew_mean'], '#FBC252', label='ARS', linewidth=2)\n",
    "\n",
    "\n",
    "plt.xlabel('Time in minutes')\n",
    "plt.ylabel('Mean episodic profit / 100 episodes')\n",
    "  \n",
    "# giving a title to my graph\n",
    "plt.title('Training process 3')\n",
    "\n",
    "plt.ylim(-700, 800)\n",
    "#plt.ylim(-7000, 700)\n",
    "plt.xlim(0,240)\n",
    "\n",
    "\n",
    "plt.tight_layout()\n",
    "plt.legend(loc='upper center', bbox_to_anchor=(0.5, -0.15),\n",
    "          fancybox=True, shadow=False, ncol=5)\n",
    "plt.show() \n",
    "\n",
    "#fig.savefig('Chart3.png')"
   ]
  },
  {
   "cell_type": "code",
   "execution_count": null,
   "id": "c1e43606",
   "metadata": {},
   "outputs": [],
   "source": []
  }
 ],
 "metadata": {
  "kernelspec": {
   "display_name": "Python 3 (ipykernel)",
   "language": "python",
   "name": "python3"
  },
  "language_info": {
   "codemirror_mode": {
    "name": "ipython",
    "version": 3
   },
   "file_extension": ".py",
   "mimetype": "text/x-python",
   "name": "python",
   "nbconvert_exporter": "python",
   "pygments_lexer": "ipython3",
   "version": "3.9.13"
  }
 },
 "nbformat": 4,
 "nbformat_minor": 5
}
